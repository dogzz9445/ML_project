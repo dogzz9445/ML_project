{
 "cells": [
  {
   "cell_type": "code",
   "execution_count": 3,
   "metadata": {},
   "outputs": [],
   "source": [
    "import numpy as np\n",
    "import pandas as pd"
   ]
  },
  {
   "cell_type": "code",
   "execution_count": 4,
   "metadata": {},
   "outputs": [],
   "source": [
    "#item_category_df = pd.read_csv(\"./data/item_categories.csv\")\n",
    "items_df = pd.read_csv(\"./data/items.csv\")\n",
    "#shops_df = pd.read_csv(\"./data/shops.csv\")\n",
    "\n",
    "train_df = pd.read_csv(\"./data/sales_train.csv\")\n",
    "test_df = pd.read_csv(\"./data/test.csv\")\n",
    "\n",
    "#sample_df = pd.read_csv(\"./data/sample_submission.csv\")"
   ]
  },
  {
   "cell_type": "code",
   "execution_count": 5,
   "metadata": {},
   "outputs": [],
   "source": [
    "# date_df, 컬럼은 일, 월, 년도\n",
    "def getDayDF():\n",
    "    return pd.DataFrame(train_df[\"date\"].str.split(\".\").tolist(),  columns = ['day','month','year'])"
   ]
  },
  {
   "cell_type": "code",
   "execution_count": 6,
   "metadata": {},
   "outputs": [],
   "source": [
    "# 반환값 : 아이템별 날짜가 찍혀있는 데이터인데 newDate와 date 데이터는 유지\n",
    "def get2DateDF(): \n",
    "    date_df = getDayDF()\n",
    "    DF = pd.merge(train_df, date_df, left_index=True, right_index=True)\n",
    "    del date_df\n",
    "    # 0~33까지 년/월에 매핑\n",
    "    DF['newDate'] = DF['year'].map(str) + DF['month']\n",
    "    DF['dateCount'] = DF['newDate']\n",
    "    DF['dateCount'].replace(DF['newDate'].unique().tolist(), np.arange(0, DF['newDate'].nunique()).tolist(), inplace=True)\n",
    "    DF = DF.drop(['year', 'day', 'month'], axis=1)\n",
    "    return DF"
   ]
  },
  {
   "cell_type": "code",
   "execution_count": 7,
   "metadata": {},
   "outputs": [],
   "source": [
    "# 반환값 : 아이템별 날짜가 찍혀있는 데이터, 일부 데이터를 지워 경량화한 데이터\n",
    "def getDateDF():\n",
    "    # split 되어있는 DataFrame Merge\n",
    "    date_df = getDayDF()\n",
    "    DF = pd.merge(train_df, date_df, left_index=True, right_index=True)\n",
    "    del date_df\n",
    "    # 0~33까지 년/월에 매핑\n",
    "    DF['newDate'] = DF['year'].map(str) + DF['month']\n",
    "    DF['dateCount'] = DF['newDate']\n",
    "    DF['dateCount'].replace(DF['newDate'].unique().tolist(), np.arange(0, DF['newDate'].nunique()).tolist(), inplace=True)\n",
    "    # Memory 부족 현상때문에 임시로 만드는 영역\n",
    "    DF =  DF.drop(['day', 'month', 'newDate', 'year', 'date'], axis=1)\n",
    "    return DF"
   ]
  },
  {
   "cell_type": "markdown",
   "metadata": {},
   "source": [
    "### MAX Value"
   ]
  },
  {
   "cell_type": "code",
   "execution_count": 8,
   "metadata": {},
   "outputs": [],
   "source": [
    "# 반환 값 : 아이템 별로 최대로 팔리는 달 수와 팔린 값\n",
    "def getMaxValueMatrix():\n",
    "    # 날짜와 train_df 합쳐진 dataFrame을 불러옴\n",
    "    maDF = getDateDF()\n",
    "    # item 별로 달마다 판매한 개수 dataFrame\n",
    "    #maDF = maDF.drop(['date_block_num', 'shop_id', 'date', 'item_price', 'day', 'month', 'year', 'newDate'], axis=1)\n",
    "    maDF = maDF.drop(['date_block_num', 'shop_id', 'item_price'], axis=1)\n",
    "    maDF = maDF.groupby(['item_id', 'dateCount']).sum().unstack().T\n",
    "    maDF[maDF.isnull()] = 0\n",
    "    maDF = maDF.reset_index().drop('level_0', axis=1)\n",
    "    maDF = maDF.drop('dateCount', axis=1)\n",
    "    maDF = maDF.T\n",
    "    \n",
    "    # 아이템별로 최댓값인 index와 value를 뽑아냄\n",
    "    df_maxMonth= maDF.idxmax(axis=1).to_frame().reset_index()\n",
    "    df_maxValue = maDF.max(axis=1).to_frame().reset_index()\n",
    "    \n",
    "    del maDF\n",
    "    \n",
    "    df_maxMonth = df_maxMonth.T.reset_index().T[1:]\n",
    "    df_maxValue = df_maxValue.T.reset_index().T[1:]\n",
    "    df_maxMonth['item_id'] = df_maxMonth[0]\n",
    "    df_maxMonth['maxMonth'] = df_maxMonth[1]\n",
    "    df_maxMonth = df_maxMonth.drop([0, 1], axis=1)\n",
    "    df_maxValue['item_id'] = df_maxValue[0]\n",
    "    df_maxValue['maxValue'] = df_maxValue[1]\n",
    "    df_maxValue = df_maxValue.drop([0, 1], axis=1)\n",
    "    \n",
    "    df_resultMax = pd.merge(df_maxValue, df_maxMonth, on='item_id', left_index=True, right_index=True)\n",
    "    del df_maxMonth\n",
    "    del df_maxValue\n",
    "    return df_resultMax"
   ]
  },
  {
   "cell_type": "code",
   "execution_count": 9,
   "metadata": {},
   "outputs": [],
   "source": [
    "#\n",
    "temp1 = getDateDF()\n",
    "temp2 = getMaxValueMatrix()\n",
    "mergedDF = pd.merge(temp1, temp2, on='item_id', sort=True, left_index=True, right_index=False)\n",
    "del temp1\n",
    "del temp2\n",
    "del mergedDF['date_block_num']\n",
    "del mergedDF['item_price']\n",
    "\n",
    "# Train data를 위한 데이터를 작성\n",
    "mergedDF['degreeMonth'] = (np.absolute((mergedDF['maxMonth'] - mergedDF['dateCount']).replace({0 : 1})).astype(np.float16).apply(lambda x : np.log(x)))\n",
    "mergedDF['degreeMonth'] = mergedDF['maxValue'] / mergedDF['degreeMonth'].replace({0:1})\n",
    "#Test data를 위한 항목을 작성\n",
    "mergedDF['ForTestDegreeMonth'] = (np.absolute((mergedDF['maxMonth'] - 34).replace({0 : 1})).astype(np.float16).apply(lambda x : np.log(x)))\n",
    "mergedDF['ForTestDegreeMonth'] = mergedDF['maxValue'] / mergedDF['ForTestDegreeMonth'].replace({0:1})\n",
    "mergedDF = mergedDF.drop(['item_cnt_day', 'maxMonth'], axis=1)"
   ]
  },
  {
   "cell_type": "code",
   "execution_count": 10,
   "metadata": {},
   "outputs": [
    {
     "data": {
      "text/html": [
       "<div>\n",
       "<style scoped>\n",
       "    .dataframe tbody tr th:only-of-type {\n",
       "        vertical-align: middle;\n",
       "    }\n",
       "\n",
       "    .dataframe tbody tr th {\n",
       "        vertical-align: top;\n",
       "    }\n",
       "\n",
       "    .dataframe thead th {\n",
       "        text-align: right;\n",
       "    }\n",
       "</style>\n",
       "<table border=\"1\" class=\"dataframe\">\n",
       "  <thead>\n",
       "    <tr style=\"text-align: right;\">\n",
       "      <th></th>\n",
       "      <th>shop_id</th>\n",
       "      <th>item_id</th>\n",
       "      <th>dateCount</th>\n",
       "      <th>maxValue</th>\n",
       "      <th>degreeMonth</th>\n",
       "      <th>ForTestDegreeMonth</th>\n",
       "    </tr>\n",
       "  </thead>\n",
       "  <tbody>\n",
       "    <tr>\n",
       "      <th>0</th>\n",
       "      <td>54</td>\n",
       "      <td>0</td>\n",
       "      <td>20</td>\n",
       "      <td>1</td>\n",
       "      <td>1</td>\n",
       "      <td>0.378923</td>\n",
       "    </tr>\n",
       "    <tr>\n",
       "      <th>1</th>\n",
       "      <td>55</td>\n",
       "      <td>1</td>\n",
       "      <td>15</td>\n",
       "      <td>2</td>\n",
       "      <td>2</td>\n",
       "      <td>0.679247</td>\n",
       "    </tr>\n",
       "    <tr>\n",
       "      <th>1</th>\n",
       "      <td>55</td>\n",
       "      <td>1</td>\n",
       "      <td>15</td>\n",
       "      <td>2</td>\n",
       "      <td>2</td>\n",
       "      <td>0.679247</td>\n",
       "    </tr>\n",
       "    <tr>\n",
       "      <th>1</th>\n",
       "      <td>55</td>\n",
       "      <td>1</td>\n",
       "      <td>18</td>\n",
       "      <td>2</td>\n",
       "      <td>1.82048</td>\n",
       "      <td>0.679247</td>\n",
       "    </tr>\n",
       "    <tr>\n",
       "      <th>1</th>\n",
       "      <td>55</td>\n",
       "      <td>1</td>\n",
       "      <td>19</td>\n",
       "      <td>2</td>\n",
       "      <td>1.4427</td>\n",
       "      <td>0.679247</td>\n",
       "    </tr>\n",
       "  </tbody>\n",
       "</table>\n",
       "</div>"
      ],
      "text/plain": [
       "   shop_id item_id  dateCount maxValue degreeMonth ForTestDegreeMonth\n",
       "0       54       0         20        1           1           0.378923\n",
       "1       55       1         15        2           2           0.679247\n",
       "1       55       1         15        2           2           0.679247\n",
       "1       55       1         18        2     1.82048           0.679247\n",
       "1       55       1         19        2      1.4427           0.679247"
      ]
     },
     "execution_count": 10,
     "metadata": {},
     "output_type": "execute_result"
    }
   ],
   "source": [
    "# mergedDF의 ForTestDegreeMonth를 test에 넣고\n",
    "# mergedDF의 degreeMonth를 train에 넣는다.\n",
    "# 이름은 같은 걸로\n",
    "mergedDF.head()"
   ]
  },
  {
   "cell_type": "code",
   "execution_count": 11,
   "metadata": {},
   "outputs": [],
   "source": [
    "df_date = get2DateDF()\n",
    "df_date = df_date.drop(['date_block_num', 'item_price', 'item_cnt_day', 'newDate'], axis=1)\n"
   ]
  },
  {
   "cell_type": "code",
   "execution_count": 12,
   "metadata": {},
   "outputs": [
    {
     "data": {
      "text/html": [
       "<div>\n",
       "<style scoped>\n",
       "    .dataframe tbody tr th:only-of-type {\n",
       "        vertical-align: middle;\n",
       "    }\n",
       "\n",
       "    .dataframe tbody tr th {\n",
       "        vertical-align: top;\n",
       "    }\n",
       "\n",
       "    .dataframe thead th {\n",
       "        text-align: right;\n",
       "    }\n",
       "</style>\n",
       "<table border=\"1\" class=\"dataframe\">\n",
       "  <thead>\n",
       "    <tr style=\"text-align: right;\">\n",
       "      <th></th>\n",
       "      <th>date</th>\n",
       "      <th>shop_id</th>\n",
       "      <th>item_id</th>\n",
       "      <th>dateCount</th>\n",
       "    </tr>\n",
       "  </thead>\n",
       "  <tbody>\n",
       "    <tr>\n",
       "      <th>0</th>\n",
       "      <td>02.01.2013</td>\n",
       "      <td>59</td>\n",
       "      <td>22154</td>\n",
       "      <td>0</td>\n",
       "    </tr>\n",
       "    <tr>\n",
       "      <th>1</th>\n",
       "      <td>03.01.2013</td>\n",
       "      <td>25</td>\n",
       "      <td>2552</td>\n",
       "      <td>0</td>\n",
       "    </tr>\n",
       "    <tr>\n",
       "      <th>2</th>\n",
       "      <td>05.01.2013</td>\n",
       "      <td>25</td>\n",
       "      <td>2552</td>\n",
       "      <td>0</td>\n",
       "    </tr>\n",
       "    <tr>\n",
       "      <th>3</th>\n",
       "      <td>06.01.2013</td>\n",
       "      <td>25</td>\n",
       "      <td>2554</td>\n",
       "      <td>0</td>\n",
       "    </tr>\n",
       "    <tr>\n",
       "      <th>4</th>\n",
       "      <td>15.01.2013</td>\n",
       "      <td>25</td>\n",
       "      <td>2555</td>\n",
       "      <td>0</td>\n",
       "    </tr>\n",
       "  </tbody>\n",
       "</table>\n",
       "</div>"
      ],
      "text/plain": [
       "         date  shop_id  item_id  dateCount\n",
       "0  02.01.2013       59    22154          0\n",
       "1  03.01.2013       25     2552          0\n",
       "2  05.01.2013       25     2552          0\n",
       "3  06.01.2013       25     2554          0\n",
       "4  15.01.2013       25     2555          0"
      ]
     },
     "execution_count": 12,
     "metadata": {},
     "output_type": "execute_result"
    }
   ],
   "source": [
    "df_date.head()"
   ]
  },
  {
   "cell_type": "code",
   "execution_count": null,
   "metadata": {},
   "outputs": [],
   "source": [
    "resultDF = pd.merge(df_date, mergedDF, on=['shop_id', 'item_id', 'dateCount'], left_index=True, right_index=False)\n",
    "del df_date\n",
    "del mergedDF\n",
    "resultDF = resultDF.drop(['maxValue', 'dateCount'])\n",
    "train_df = pd.merge(train_df, resultDF.drop('ForTestDegreeMonth', axis=1), on=['shop_id', 'item_id', 'dateCount'], left_index=True, right_index=False)\n",
    "resultDF['degreeMonth'] = resultDF['ForTestDegreeMonth']\n",
    "del resultDF['ForTestDegreeMonth']\n",
    "test_df = pd.merge(train_df, resultDF, on=['shop_id', 'item_id', 'dateCount'], left_index=True, right_index=False)"
   ]
  }
 ],
 "metadata": {
  "kernelspec": {
   "display_name": "Python 3",
   "language": "python",
   "name": "python3"
  },
  "language_info": {
   "codemirror_mode": {
    "name": "ipython",
    "version": 3
   },
   "file_extension": ".py",
   "mimetype": "text/x-python",
   "name": "python",
   "nbconvert_exporter": "python",
   "pygments_lexer": "ipython3",
   "version": "3.6.4"
  }
 },
 "nbformat": 4,
 "nbformat_minor": 2
}
