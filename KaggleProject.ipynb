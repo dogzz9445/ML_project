{
 "cells": [
  {
   "cell_type": "code",
   "execution_count": 1,
   "metadata": {},
   "outputs": [],
   "source": [
    "import numpy as np\n",
    "import pandas as pd"
   ]
  },
  {
   "cell_type": "code",
   "execution_count": 2,
   "metadata": {},
   "outputs": [],
   "source": [
    "#item_category_df = pd.read_csv(\"./data/item_categories.csv\")\n",
    "items_df = pd.read_csv(\"./data/items.csv\")\n",
    "#shops_df = pd.read_csv(\"./data/shops.csv\")\n",
    "\n",
    "train_df = pd.read_csv(\"./data/sales_train.csv\")\n",
    "#test_df = pd.read_csv(\"./data/test.csv\")\n",
    "\n",
    "#sample_df = pd.read_csv(\"./data/sample_submission.csv\")"
   ]
  },
  {
   "cell_type": "code",
   "execution_count": 3,
   "metadata": {},
   "outputs": [],
   "source": [
    "# date_df, 컬럼은 일, 월, 년도\n",
    "def getDayDF():\n",
    "    return pd.DataFrame(train_df[\"date\"].str.split(\".\").tolist(),  columns = ['day','month','year'])"
   ]
  },
  {
   "cell_type": "code",
   "execution_count": 4,
   "metadata": {},
   "outputs": [],
   "source": [
    "def get2DateDF():\n",
    "    date_df = getDayDF()\n",
    "    DF = pd.merge(train_df, date_df, left_index=True, right_index=True)\n",
    "    del date_df\n",
    "    # 0~33까지 년/월에 매핑\n",
    "    DF['newDate'] = DF['year'].map(str) + DF['month']\n",
    "    DF['dateCount'] = DF['newDate']\n",
    "    DF['dateCount'].replace(DF['newDate'].unique().tolist(), np.arange(0, DF['newDate'].nunique()).tolist(), inplace=True)\n",
    "    DF = DF.drop(['year', 'day', 'month'], axis=1)\n",
    "    return DF"
   ]
  },
  {
   "cell_type": "code",
   "execution_count": 5,
   "metadata": {},
   "outputs": [],
   "source": [
    "# 반환값 : \n",
    "def getDateDF():\n",
    "    # split 되어있는 DataFrame Merge\n",
    "    date_df = getDayDF()\n",
    "    DF = pd.merge(train_df, date_df, left_index=True, right_index=True)\n",
    "    del date_df\n",
    "    # 0~33까지 년/월에 매핑\n",
    "    DF['newDate'] = DF['year'].map(str) + DF['month']\n",
    "    DF['dateCount'] = DF['newDate']\n",
    "    DF['dateCount'].replace(DF['newDate'].unique().tolist(), np.arange(0, DF['newDate'].nunique()).tolist(), inplace=True)\n",
    "    # Memory 부족 현상때문에 임시로 만드는 영역\n",
    "    DF =  DF.drop(['day', 'month', 'newDate', 'year', 'date'], axis=1)\n",
    "    return DF"
   ]
  },
  {
   "cell_type": "code",
   "execution_count": 10,
   "metadata": {},
   "outputs": [],
   "source": [
    "# 반환값 : Item마다 0~33개월까지 판매량 메트릭스\n",
    "def getMatrixDateDF():\n",
    "    date_df = getDayDF()\n",
    "    DF = pd.merge(train_df, date_df, left_index=True, right_index=True)\n",
    "    del date_df\n",
    "    # 0~33까지 년/월에 매핑\n",
    "    DF['newDate'] = DF['year'].map(str) + DF['month']\n",
    "    DF['dateCount'] = DF['newDate']\n",
    "    DF['dateCount'].replace(DF['newDate'].unique().tolist(), np.arange(0, DF['newDate'].nunique()).tolist(), inplace=True)\n",
    "    DF = DF.drop(['date', 'date_block_num', 'day', 'month', 'year', 'newDate', 'shop_id', 'item_price'], axis=1)\n",
    "    DF = DF.groupby(['dateCount', 'item_id']).sum().unstack()\n",
    "    DF[DF.isnull()] = 0\n",
    "    return df_temp1.reset_index()"
   ]
  },
  {
   "cell_type": "code",
   "execution_count": 4,
   "metadata": {},
   "outputs": [],
   "source": [
    "# 반환값 : item category와 날짜, train_df 셋을 merge\n",
    "def getCategoryDF():\n",
    "    date_df = getDayDF()\n",
    "    DF = pd.merge(train_df, date_df, left_index=True, right_index=True)\n",
    "    del date_df\n",
    "    # 0~33까지 년/월에 매핑\n",
    "    DF['newDate'] = DF['year'].map(str) + DF['month']\n",
    "    DF['dateCount'] = DF['newDate']\n",
    "    DF['dateCount'].replace(DF['newDate'].unique().tolist(), np.arange(0, DF['newDate'].nunique()).tolist(), inplace=True)\n",
    "    df_temp1 = pd.merge(DF, items_df.drop('item_name', axis=1), on='item_id', left_index=True, right_index=False)\n",
    "    return df_temp1"
   ]
  },
  {
   "cell_type": "code",
   "execution_count": null,
   "metadata": {},
   "outputs": [],
   "source": [
    "# 반환값 : item category마다 0~33개월까지 판매량 메트릭스\n",
    "def getMatrixCategoryDF():\n",
    "    date_df = getDayDF()\n",
    "    DF = pd.merge(train_df, date_df, left_index=True, right_index=True)\n",
    "    del date_df\n",
    "    # 0~33까지 년/월에 매핑\n",
    "    DF['newDate'] = DF['year'].map(str) + DF['month']\n",
    "    DF['dateCount'] = DF['newDate']\n",
    "    DF['dateCount'].replace(DF['newDate'].unique().tolist(), np.arange(0, DF['newDate'].nunique()).tolist(), inplace=True)\n",
    "    df_temp1 = pd.merge(DF, items_df.drop('item_name', axis=1), on='item_id', left_index=True, right_index=False)\n",
    "    df_temp1 = df_temp1.drop(['date_block_num', 'date', 'shop_id', 'item_price', 'day', 'month', 'year', 'newDate', 'item_id'], axis=1)\n",
    "    df_temp1 = df_temp1.groupby(['item_category_id', 'dateCount']).sum().unstack()\n",
    "    df_temp1[df_temp1.isnull()] = 0\n",
    "    return df_temp1.reset_index()"
   ]
  },
  {
   "cell_type": "code",
   "execution_count": null,
   "metadata": {},
   "outputs": [],
   "source": []
  },
  {
   "cell_type": "markdown",
   "metadata": {},
   "source": [
    "### MAX Value"
   ]
  },
  {
   "cell_type": "code",
   "execution_count": 6,
   "metadata": {},
   "outputs": [],
   "source": [
    "# 반환 값 : 아이템 별로 최대로 팔리는 달 수와 팔린 값\n",
    "def getMaxValueMatrix():\n",
    "    # 날짜와 train_df 합쳐진 dataFrame을 불러옴\n",
    "    maDF = getDateDF()\n",
    "    # item 별로 달마다 판매한 개수 dataFrame\n",
    "    #maDF = maDF.drop(['date_block_num', 'shop_id', 'date', 'item_price', 'day', 'month', 'year', 'newDate'], axis=1)\n",
    "    maDF = maDF.drop(['date_block_num', 'shop_id', 'item_price'], axis=1)\n",
    "    maDF = maDF.groupby(['item_id', 'dateCount']).sum().unstack().T\n",
    "    maDF[maDF.isnull()] = 0\n",
    "    maDF = maDF.reset_index().drop('level_0', axis=1)\n",
    "    maDF = maDF.drop('dateCount', axis=1)\n",
    "    maDF = maDF.T\n",
    "    \n",
    "    # 아이템별로 최댓값인 index와 value를 뽑아냄\n",
    "    df_maxMonth= maDF.idxmax(axis=1).to_frame().reset_index()\n",
    "    df_maxValue = maDF.max(axis=1).to_frame().reset_index()\n",
    "    \n",
    "    del maDF\n",
    "    \n",
    "    df_maxMonth = df_maxMonth.T.reset_index().T[1:]\n",
    "    df_maxValue = df_maxValue.T.reset_index().T[1:]\n",
    "    df_maxMonth['item_id'] = df_maxMonth[0]\n",
    "    df_maxMonth['maxMonth'] = df_maxMonth[1]\n",
    "    df_maxMonth = df_maxMonth.drop([0, 1], axis=1)\n",
    "    df_maxValue['item_id'] = df_maxValue[0]\n",
    "    df_maxValue['maxValue'] = df_maxValue[1]\n",
    "    df_maxValue = df_maxValue.drop([0, 1], axis=1)\n",
    "    \n",
    "    df_resultMax = pd.merge(df_maxValue, df_maxMonth, on='item_id', left_index=True, right_index=True)\n",
    "    del df_maxMonth\n",
    "    del df_maxValue\n",
    "    return df_resultMax"
   ]
  },
  {
   "cell_type": "code",
   "execution_count": 7,
   "metadata": {},
   "outputs": [],
   "source": [
    "temp1 = getDateDF()\n",
    "temp2 = getMaxValueMatrix()\n",
    "mergedDF = pd.merge(temp1, temp2, on='item_id', sort=True, left_index=True, right_index=False)\n",
    "del temp1\n",
    "del temp2\n",
    "del mergedDF['date_block_num']\n",
    "del mergedDF['item_price']\n",
    "\n",
    "# Train data를 위한 데이터를 작성\n",
    "mergedDF['degreeMonth'] = (np.absolute((mergedDF['maxMonth'] - mergedDF['dateCount']).replace({0 : 1})).astype(np.float16).apply(lambda x : np.log(x)))\n",
    "mergedDF['degreeMonth'] = mergedDF['maxValue'] / mergedDF['degreeMonth'].replace({0:1})\n",
    "#Test data를 위한 항목을 작성\n",
    "mergedDF['ForTestDegreeMonth'] = (np.absolute((mergedDF['maxMonth'] - 34).replace({0 : 1})).astype(np.float16).apply(lambda x : np.log(x)))\n",
    "mergedDF['ForTestDegreeMonth'] = mergedDF['maxValue'] / mergedDF['ForTestDegreeMonth'].replace({0:1})\n",
    "mergedDF = mergedDF.drop(['item_cnt_day', 'maxMonth'], axis=1)"
   ]
  },
  {
   "cell_type": "code",
   "execution_count": 8,
   "metadata": {},
   "outputs": [
    {
     "data": {
      "text/html": [
       "<div>\n",
       "<style scoped>\n",
       "    .dataframe tbody tr th:only-of-type {\n",
       "        vertical-align: middle;\n",
       "    }\n",
       "\n",
       "    .dataframe tbody tr th {\n",
       "        vertical-align: top;\n",
       "    }\n",
       "\n",
       "    .dataframe thead th {\n",
       "        text-align: right;\n",
       "    }\n",
       "</style>\n",
       "<table border=\"1\" class=\"dataframe\">\n",
       "  <thead>\n",
       "    <tr style=\"text-align: right;\">\n",
       "      <th></th>\n",
       "      <th>shop_id</th>\n",
       "      <th>item_id</th>\n",
       "      <th>dateCount</th>\n",
       "      <th>maxValue</th>\n",
       "      <th>degreeMonth</th>\n",
       "      <th>ForTestDegreeMonth</th>\n",
       "    </tr>\n",
       "  </thead>\n",
       "  <tbody>\n",
       "    <tr>\n",
       "      <th>0</th>\n",
       "      <td>54</td>\n",
       "      <td>0</td>\n",
       "      <td>20</td>\n",
       "      <td>1</td>\n",
       "      <td>1</td>\n",
       "      <td>0.378923</td>\n",
       "    </tr>\n",
       "    <tr>\n",
       "      <th>1</th>\n",
       "      <td>55</td>\n",
       "      <td>1</td>\n",
       "      <td>15</td>\n",
       "      <td>2</td>\n",
       "      <td>2</td>\n",
       "      <td>0.679247</td>\n",
       "    </tr>\n",
       "    <tr>\n",
       "      <th>1</th>\n",
       "      <td>55</td>\n",
       "      <td>1</td>\n",
       "      <td>15</td>\n",
       "      <td>2</td>\n",
       "      <td>2</td>\n",
       "      <td>0.679247</td>\n",
       "    </tr>\n",
       "    <tr>\n",
       "      <th>1</th>\n",
       "      <td>55</td>\n",
       "      <td>1</td>\n",
       "      <td>18</td>\n",
       "      <td>2</td>\n",
       "      <td>1.82048</td>\n",
       "      <td>0.679247</td>\n",
       "    </tr>\n",
       "    <tr>\n",
       "      <th>1</th>\n",
       "      <td>55</td>\n",
       "      <td>1</td>\n",
       "      <td>19</td>\n",
       "      <td>2</td>\n",
       "      <td>1.4427</td>\n",
       "      <td>0.679247</td>\n",
       "    </tr>\n",
       "  </tbody>\n",
       "</table>\n",
       "</div>"
      ],
      "text/plain": [
       "   shop_id item_id  dateCount maxValue degreeMonth ForTestDegreeMonth\n",
       "0       54       0         20        1           1           0.378923\n",
       "1       55       1         15        2           2           0.679247\n",
       "1       55       1         15        2           2           0.679247\n",
       "1       55       1         18        2     1.82048           0.679247\n",
       "1       55       1         19        2      1.4427           0.679247"
      ]
     },
     "execution_count": 8,
     "metadata": {},
     "output_type": "execute_result"
    }
   ],
   "source": [
    "mergedDF.head()"
   ]
  },
  {
   "cell_type": "code",
   "execution_count": 9,
   "metadata": {},
   "outputs": [
    {
     "ename": "MemoryError",
     "evalue": "",
     "output_type": "error",
     "traceback": [
      "\u001b[0;31m---------------------------------------------------------------------------\u001b[0m",
      "\u001b[0;31mMemoryError\u001b[0m                               Traceback (most recent call last)",
      "\u001b[0;32m<ipython-input-9-d60177c9958c>\u001b[0m in \u001b[0;36m<module>\u001b[0;34m()\u001b[0m\n\u001b[1;32m      1\u001b[0m \u001b[0mdf_date\u001b[0m \u001b[0;34m=\u001b[0m \u001b[0mget2DateDF\u001b[0m\u001b[0;34m(\u001b[0m\u001b[0;34m)\u001b[0m\u001b[0;34m\u001b[0m\u001b[0m\n\u001b[1;32m      2\u001b[0m \u001b[0mdf_date\u001b[0m \u001b[0;34m=\u001b[0m \u001b[0mdf_date\u001b[0m\u001b[0;34m.\u001b[0m\u001b[0mdrop\u001b[0m\u001b[0;34m(\u001b[0m\u001b[0;34m[\u001b[0m\u001b[0;34m'date_block_num'\u001b[0m\u001b[0;34m,\u001b[0m \u001b[0;34m'item_price'\u001b[0m\u001b[0;34m,\u001b[0m \u001b[0;34m'item_cnt_day'\u001b[0m\u001b[0;34m,\u001b[0m \u001b[0;34m'newDate'\u001b[0m\u001b[0;34m]\u001b[0m\u001b[0;34m,\u001b[0m \u001b[0maxis\u001b[0m\u001b[0;34m=\u001b[0m\u001b[0;36m1\u001b[0m\u001b[0;34m)\u001b[0m\u001b[0;34m\u001b[0m\u001b[0m\n\u001b[0;32m----> 3\u001b[0;31m \u001b[0mresultDF\u001b[0m \u001b[0;34m=\u001b[0m \u001b[0mpd\u001b[0m\u001b[0;34m.\u001b[0m\u001b[0mmerge\u001b[0m\u001b[0;34m(\u001b[0m\u001b[0mdf_date\u001b[0m\u001b[0;34m,\u001b[0m \u001b[0mmergedDF\u001b[0m\u001b[0;34m,\u001b[0m \u001b[0mon\u001b[0m\u001b[0;34m=\u001b[0m\u001b[0;34m[\u001b[0m\u001b[0;34m'shop_id'\u001b[0m\u001b[0;34m,\u001b[0m \u001b[0;34m'item_id'\u001b[0m\u001b[0;34m,\u001b[0m \u001b[0;34m'dateCount'\u001b[0m\u001b[0;34m]\u001b[0m\u001b[0;34m,\u001b[0m \u001b[0mleft_index\u001b[0m\u001b[0;34m=\u001b[0m\u001b[0;32mTrue\u001b[0m\u001b[0;34m,\u001b[0m \u001b[0mright_index\u001b[0m\u001b[0;34m=\u001b[0m\u001b[0;32mFalse\u001b[0m\u001b[0;34m)\u001b[0m\u001b[0;34m\u001b[0m\u001b[0m\n\u001b[0m",
      "\u001b[0;32mC:\\Users\\JangDongmin\\PycharmProjects\\MachineLearning\\venv\\lib\\site-packages\\pandas\\core\\reshape\\merge.py\u001b[0m in \u001b[0;36mmerge\u001b[0;34m(left, right, how, on, left_on, right_on, left_index, right_index, sort, suffixes, copy, indicator, validate)\u001b[0m\n\u001b[1;32m     56\u001b[0m                          \u001b[0mcopy\u001b[0m\u001b[0;34m=\u001b[0m\u001b[0mcopy\u001b[0m\u001b[0;34m,\u001b[0m \u001b[0mindicator\u001b[0m\u001b[0;34m=\u001b[0m\u001b[0mindicator\u001b[0m\u001b[0;34m,\u001b[0m\u001b[0;34m\u001b[0m\u001b[0m\n\u001b[1;32m     57\u001b[0m                          validate=validate)\n\u001b[0;32m---> 58\u001b[0;31m     \u001b[0;32mreturn\u001b[0m \u001b[0mop\u001b[0m\u001b[0;34m.\u001b[0m\u001b[0mget_result\u001b[0m\u001b[0;34m(\u001b[0m\u001b[0;34m)\u001b[0m\u001b[0;34m\u001b[0m\u001b[0m\n\u001b[0m\u001b[1;32m     59\u001b[0m \u001b[0;34m\u001b[0m\u001b[0m\n\u001b[1;32m     60\u001b[0m \u001b[0;34m\u001b[0m\u001b[0m\n",
      "\u001b[0;32mC:\\Users\\JangDongmin\\PycharmProjects\\MachineLearning\\venv\\lib\\site-packages\\pandas\\core\\reshape\\merge.py\u001b[0m in \u001b[0;36mget_result\u001b[0;34m(self)\u001b[0m\n\u001b[1;32m    594\u001b[0m             \u001b[0;34m[\u001b[0m\u001b[0;34m(\u001b[0m\u001b[0mldata\u001b[0m\u001b[0;34m,\u001b[0m \u001b[0mlindexers\u001b[0m\u001b[0;34m)\u001b[0m\u001b[0;34m,\u001b[0m \u001b[0;34m(\u001b[0m\u001b[0mrdata\u001b[0m\u001b[0;34m,\u001b[0m \u001b[0mrindexers\u001b[0m\u001b[0;34m)\u001b[0m\u001b[0;34m]\u001b[0m\u001b[0;34m,\u001b[0m\u001b[0;34m\u001b[0m\u001b[0m\n\u001b[1;32m    595\u001b[0m             \u001b[0maxes\u001b[0m\u001b[0;34m=\u001b[0m\u001b[0;34m[\u001b[0m\u001b[0mllabels\u001b[0m\u001b[0;34m.\u001b[0m\u001b[0mappend\u001b[0m\u001b[0;34m(\u001b[0m\u001b[0mrlabels\u001b[0m\u001b[0;34m)\u001b[0m\u001b[0;34m,\u001b[0m \u001b[0mjoin_index\u001b[0m\u001b[0;34m]\u001b[0m\u001b[0;34m,\u001b[0m\u001b[0;34m\u001b[0m\u001b[0m\n\u001b[0;32m--> 596\u001b[0;31m             concat_axis=0, copy=self.copy)\n\u001b[0m\u001b[1;32m    597\u001b[0m \u001b[0;34m\u001b[0m\u001b[0m\n\u001b[1;32m    598\u001b[0m         \u001b[0mtyp\u001b[0m \u001b[0;34m=\u001b[0m \u001b[0mself\u001b[0m\u001b[0;34m.\u001b[0m\u001b[0mleft\u001b[0m\u001b[0;34m.\u001b[0m\u001b[0m_constructor\u001b[0m\u001b[0;34m\u001b[0m\u001b[0m\n",
      "\u001b[0;32mC:\\Users\\JangDongmin\\PycharmProjects\\MachineLearning\\venv\\lib\\site-packages\\pandas\\core\\internals.py\u001b[0m in \u001b[0;36mconcatenate_block_managers\u001b[0;34m(mgrs_indexers, axes, concat_axis, copy)\u001b[0m\n\u001b[1;32m   5201\u001b[0m         \u001b[0;32melse\u001b[0m\u001b[0;34m:\u001b[0m\u001b[0;34m\u001b[0m\u001b[0m\n\u001b[1;32m   5202\u001b[0m             b = make_block(\n\u001b[0;32m-> 5203\u001b[0;31m                 \u001b[0mconcatenate_join_units\u001b[0m\u001b[0;34m(\u001b[0m\u001b[0mjoin_units\u001b[0m\u001b[0;34m,\u001b[0m \u001b[0mconcat_axis\u001b[0m\u001b[0;34m,\u001b[0m \u001b[0mcopy\u001b[0m\u001b[0;34m=\u001b[0m\u001b[0mcopy\u001b[0m\u001b[0;34m)\u001b[0m\u001b[0;34m,\u001b[0m\u001b[0;34m\u001b[0m\u001b[0m\n\u001b[0m\u001b[1;32m   5204\u001b[0m                 placement=placement)\n\u001b[1;32m   5205\u001b[0m         \u001b[0mblocks\u001b[0m\u001b[0;34m.\u001b[0m\u001b[0mappend\u001b[0m\u001b[0;34m(\u001b[0m\u001b[0mb\u001b[0m\u001b[0;34m)\u001b[0m\u001b[0;34m\u001b[0m\u001b[0m\n",
      "\u001b[0;32mC:\\Users\\JangDongmin\\PycharmProjects\\MachineLearning\\venv\\lib\\site-packages\\pandas\\core\\internals.py\u001b[0m in \u001b[0;36mconcatenate_join_units\u001b[0;34m(join_units, concat_axis, copy)\u001b[0m\n\u001b[1;32m   5330\u001b[0m     to_concat = [ju.get_reindexed_values(empty_dtype=empty_dtype,\n\u001b[1;32m   5331\u001b[0m                                          upcasted_na=upcasted_na)\n\u001b[0;32m-> 5332\u001b[0;31m                  for ju in join_units]\n\u001b[0m\u001b[1;32m   5333\u001b[0m \u001b[0;34m\u001b[0m\u001b[0m\n\u001b[1;32m   5334\u001b[0m     \u001b[0;32mif\u001b[0m \u001b[0mlen\u001b[0m\u001b[0;34m(\u001b[0m\u001b[0mto_concat\u001b[0m\u001b[0;34m)\u001b[0m \u001b[0;34m==\u001b[0m \u001b[0;36m1\u001b[0m\u001b[0;34m:\u001b[0m\u001b[0;34m\u001b[0m\u001b[0m\n",
      "\u001b[0;32mC:\\Users\\JangDongmin\\PycharmProjects\\MachineLearning\\venv\\lib\\site-packages\\pandas\\core\\internals.py\u001b[0m in \u001b[0;36m<listcomp>\u001b[0;34m(.0)\u001b[0m\n\u001b[1;32m   5330\u001b[0m     to_concat = [ju.get_reindexed_values(empty_dtype=empty_dtype,\n\u001b[1;32m   5331\u001b[0m                                          upcasted_na=upcasted_na)\n\u001b[0;32m-> 5332\u001b[0;31m                  for ju in join_units]\n\u001b[0m\u001b[1;32m   5333\u001b[0m \u001b[0;34m\u001b[0m\u001b[0m\n\u001b[1;32m   5334\u001b[0m     \u001b[0;32mif\u001b[0m \u001b[0mlen\u001b[0m\u001b[0;34m(\u001b[0m\u001b[0mto_concat\u001b[0m\u001b[0;34m)\u001b[0m \u001b[0;34m==\u001b[0m \u001b[0;36m1\u001b[0m\u001b[0;34m:\u001b[0m\u001b[0;34m\u001b[0m\u001b[0m\n",
      "\u001b[0;32mC:\\Users\\JangDongmin\\PycharmProjects\\MachineLearning\\venv\\lib\\site-packages\\pandas\\core\\internals.py\u001b[0m in \u001b[0;36mget_reindexed_values\u001b[0;34m(self, empty_dtype, upcasted_na)\u001b[0m\n\u001b[1;32m   5630\u001b[0m             \u001b[0;32mfor\u001b[0m \u001b[0max\u001b[0m\u001b[0;34m,\u001b[0m \u001b[0mindexer\u001b[0m \u001b[0;32min\u001b[0m \u001b[0mself\u001b[0m\u001b[0;34m.\u001b[0m\u001b[0mindexers\u001b[0m\u001b[0;34m.\u001b[0m\u001b[0mitems\u001b[0m\u001b[0;34m(\u001b[0m\u001b[0;34m)\u001b[0m\u001b[0;34m:\u001b[0m\u001b[0;34m\u001b[0m\u001b[0m\n\u001b[1;32m   5631\u001b[0m                 values = algos.take_nd(values, indexer, axis=ax,\n\u001b[0;32m-> 5632\u001b[0;31m                                        fill_value=fill_value)\n\u001b[0m\u001b[1;32m   5633\u001b[0m \u001b[0;34m\u001b[0m\u001b[0m\n\u001b[1;32m   5634\u001b[0m         \u001b[0;32mreturn\u001b[0m \u001b[0mvalues\u001b[0m\u001b[0;34m\u001b[0m\u001b[0m\n",
      "\u001b[0;32mC:\\Users\\JangDongmin\\PycharmProjects\\MachineLearning\\venv\\lib\\site-packages\\pandas\\core\\algorithms.py\u001b[0m in \u001b[0;36mtake_nd\u001b[0;34m(arr, indexer, axis, out, fill_value, mask_info, allow_fill)\u001b[0m\n\u001b[1;32m   1377\u001b[0m             \u001b[0mout\u001b[0m \u001b[0;34m=\u001b[0m \u001b[0mnp\u001b[0m\u001b[0;34m.\u001b[0m\u001b[0mempty\u001b[0m\u001b[0;34m(\u001b[0m\u001b[0mout_shape\u001b[0m\u001b[0;34m,\u001b[0m \u001b[0mdtype\u001b[0m\u001b[0;34m=\u001b[0m\u001b[0mdtype\u001b[0m\u001b[0;34m,\u001b[0m \u001b[0morder\u001b[0m\u001b[0;34m=\u001b[0m\u001b[0;34m'F'\u001b[0m\u001b[0;34m)\u001b[0m\u001b[0;34m\u001b[0m\u001b[0m\n\u001b[1;32m   1378\u001b[0m         \u001b[0;32melse\u001b[0m\u001b[0;34m:\u001b[0m\u001b[0;34m\u001b[0m\u001b[0m\n\u001b[0;32m-> 1379\u001b[0;31m             \u001b[0mout\u001b[0m \u001b[0;34m=\u001b[0m \u001b[0mnp\u001b[0m\u001b[0;34m.\u001b[0m\u001b[0mempty\u001b[0m\u001b[0;34m(\u001b[0m\u001b[0mout_shape\u001b[0m\u001b[0;34m,\u001b[0m \u001b[0mdtype\u001b[0m\u001b[0;34m=\u001b[0m\u001b[0mdtype\u001b[0m\u001b[0;34m)\u001b[0m\u001b[0;34m\u001b[0m\u001b[0m\n\u001b[0m\u001b[1;32m   1380\u001b[0m \u001b[0;34m\u001b[0m\u001b[0m\n\u001b[1;32m   1381\u001b[0m     func = _get_take_nd_function(arr.ndim, arr.dtype, out.dtype, axis=axis,\n",
      "\u001b[0;31mMemoryError\u001b[0m: "
     ]
    }
   ],
   "source": [
    "df_date = get2DateDF()\n",
    "df_date = df_date.drop(['date_block_num', 'item_price', 'item_cnt_day', 'newDate'], axis=1)\n",
    "resultDF = pd.merge(df_date, mergedDF, on=['shop_id', 'item_id', 'dateCount'], left_index=True, right_index=False)"
   ]
  },
  {
   "cell_type": "code",
   "execution_count": null,
   "metadata": {},
   "outputs": [],
   "source": []
  }
 ],
 "metadata": {
  "kernelspec": {
   "display_name": "Python 3",
   "language": "python",
   "name": "python3"
  },
  "language_info": {
   "codemirror_mode": {
    "name": "ipython",
    "version": 3
   },
   "file_extension": ".py",
   "mimetype": "text/x-python",
   "name": "python",
   "nbconvert_exporter": "python",
   "pygments_lexer": "ipython3",
   "version": "3.6.4"
  }
 },
 "nbformat": 4,
 "nbformat_minor": 2
}
